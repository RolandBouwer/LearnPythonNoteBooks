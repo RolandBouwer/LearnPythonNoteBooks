{
  "nbformat": 4,
  "nbformat_minor": 0,
  "metadata": {
    "colab": {
      "provenance": [],
      "authorship_tag": "ABX9TyObUkOx2mX/5ABkCrRQp/KA",
      "include_colab_link": true
    },
    "kernelspec": {
      "name": "python3",
      "display_name": "Python 3"
    },
    "language_info": {
      "name": "python"
    }
  },
  "cells": [
    {
      "cell_type": "markdown",
      "metadata": {
        "id": "view-in-github",
        "colab_type": "text"
      },
      "source": [
        "<a href=\"https://colab.research.google.com/github/RolandBouwer/LearnPythonNoteBooks/blob/master/PIIMasking.ipynb\" target=\"_parent\"><img src=\"https://colab.research.google.com/assets/colab-badge.svg\" alt=\"Open In Colab\"/></a>"
      ]
    },
    {
      "cell_type": "markdown",
      "source": [],
      "metadata": {
        "id": "-BQ9YgZCRd4X"
      }
    },
    {
      "cell_type": "code",
      "source": [
        "# prompt: i want to create a sample using Hugin face model to mask pii information based on south african identitity numbers\n",
        "\n",
        "# Install necessary libraries\n",
        "!pip install transformers\n",
        "\n",
        "# Import necessary libraries\n",
        "from transformers import pipeline\n",
        "\n",
        "# Create a named entity recognition pipeline using a suitable pre-trained model.\n",
        "# You'll need to find a model that's trained on South African ID numbers or a similar task.\n",
        "# If no such model exists, you'll need to fine-tune an existing NER model on a dataset\n",
        "# containing South African ID numbers and their corresponding labels.\n",
        "# Replace 'bert-base-uncased' with the actual model name.\n",
        "ner_pipeline = pipeline(\"ner\", model=\"bert-base-uncased\", aggregation_strategy=\"simple\")  # Placeholder model\n",
        "\n",
        "# Example usage:\n",
        "def mask_pii(text):\n",
        "  \"\"\"Masks PII information, specifically South African ID numbers, in a given text.\"\"\"\n",
        "  results = ner_pipeline(text)\n",
        "  masked_text = text\n",
        "\n",
        "  for entity in results:\n",
        "    if entity['entity_group'] == \"ID_NUMBER\": # Replace with correct entity group if model is trained for South African ID numbers.\n",
        "      masked_text = masked_text.replace(entity['word'], \"[ID_NUMBER]\")\n",
        "\n",
        "  return masked_text\n",
        "\n",
        "# Sample text\n",
        "text = \"My South African ID number is 9001015009087 and my friend's is 8902026009080\"\n",
        "\n",
        "# Mask the PII\n",
        "masked_text = mask_pii(text)\n",
        "masked_text\n",
        "\n",
        "\n",
        "# Note:\n",
        "# 1. The placeholder model 'bert-base-uncased' likely won't correctly identify SA ID numbers.\n",
        "# 2. You NEED to find a model trained for this specific purpose or fine-tune one.\n",
        "# 3. If using a custom trained model, ensure the correct entity group name is used.\n",
        "# 4. Consider more robust masking techniques (e.g., partial masking) for better privacy.\n",
        "# 5. Using this without an appropriate model will result in no masking or incorrect masking."
      ],
      "metadata": {
        "colab": {
          "base_uri": "https://localhost:8080/",
          "height": 395
        },
        "id": "_JovhZC8Tqtt",
        "outputId": "54b21f45-dcdd-40e5-ac09-c3699e262f5f"
      },
      "execution_count": 7,
      "outputs": [
        {
          "output_type": "stream",
          "name": "stdout",
          "text": [
            "Requirement already satisfied: transformers in /usr/local/lib/python3.10/dist-packages (4.47.1)\n",
            "Requirement already satisfied: filelock in /usr/local/lib/python3.10/dist-packages (from transformers) (3.16.1)\n",
            "Requirement already satisfied: huggingface-hub<1.0,>=0.24.0 in /usr/local/lib/python3.10/dist-packages (from transformers) (0.27.0)\n",
            "Requirement already satisfied: numpy>=1.17 in /usr/local/lib/python3.10/dist-packages (from transformers) (1.26.4)\n",
            "Requirement already satisfied: packaging>=20.0 in /usr/local/lib/python3.10/dist-packages (from transformers) (24.2)\n",
            "Requirement already satisfied: pyyaml>=5.1 in /usr/local/lib/python3.10/dist-packages (from transformers) (6.0.2)\n",
            "Requirement already satisfied: regex!=2019.12.17 in /usr/local/lib/python3.10/dist-packages (from transformers) (2024.11.6)\n",
            "Requirement already satisfied: requests in /usr/local/lib/python3.10/dist-packages (from transformers) (2.32.3)\n",
            "Requirement already satisfied: tokenizers<0.22,>=0.21 in /usr/local/lib/python3.10/dist-packages (from transformers) (0.21.0)\n",
            "Requirement already satisfied: safetensors>=0.4.1 in /usr/local/lib/python3.10/dist-packages (from transformers) (0.4.5)\n",
            "Requirement already satisfied: tqdm>=4.27 in /usr/local/lib/python3.10/dist-packages (from transformers) (4.67.1)\n",
            "Requirement already satisfied: fsspec>=2023.5.0 in /usr/local/lib/python3.10/dist-packages (from huggingface-hub<1.0,>=0.24.0->transformers) (2024.10.0)\n",
            "Requirement already satisfied: typing-extensions>=3.7.4.3 in /usr/local/lib/python3.10/dist-packages (from huggingface-hub<1.0,>=0.24.0->transformers) (4.12.2)\n",
            "Requirement already satisfied: charset-normalizer<4,>=2 in /usr/local/lib/python3.10/dist-packages (from requests->transformers) (3.4.0)\n",
            "Requirement already satisfied: idna<4,>=2.5 in /usr/local/lib/python3.10/dist-packages (from requests->transformers) (3.10)\n",
            "Requirement already satisfied: urllib3<3,>=1.21.1 in /usr/local/lib/python3.10/dist-packages (from requests->transformers) (2.2.3)\n",
            "Requirement already satisfied: certifi>=2017.4.17 in /usr/local/lib/python3.10/dist-packages (from requests->transformers) (2024.12.14)\n"
          ]
        },
        {
          "output_type": "stream",
          "name": "stderr",
          "text": [
            "Some weights of BertForTokenClassification were not initialized from the model checkpoint at bert-base-uncased and are newly initialized: ['classifier.bias', 'classifier.weight']\n",
            "You should probably TRAIN this model on a down-stream task to be able to use it for predictions and inference.\n",
            "Device set to use cpu\n"
          ]
        },
        {
          "output_type": "execute_result",
          "data": {
            "text/plain": [
              "\"My South African ID number is 9001015009087 and my friend's is 8902026009080\""
            ],
            "application/vnd.google.colaboratory.intrinsic+json": {
              "type": "string"
            }
          },
          "metadata": {},
          "execution_count": 7
        }
      ]
    }
  ]
}